{
 "cells": [
  {
   "cell_type": "code",
   "execution_count": 5,
   "metadata": {},
   "outputs": [],
   "source": [
    "import pandas as pd\n",
    "import numpy as np\n",
    "import string\n",
    "import Levenshtein as lev"
   ]
  },
  {
   "cell_type": "markdown",
   "metadata": {},
   "source": [
    "# Punto 1. Limpieza y transformación de los datos"
   ]
  },
  {
   "cell_type": "markdown",
   "metadata": {},
   "source": [
    "### 1. Carga de base datos"
   ]
  },
  {
   "cell_type": "code",
   "execution_count": 205,
   "metadata": {},
   "outputs": [],
   "source": [
    "dataSource = \"data/DataAnalyst_YoFio_PT_ocupaciones.csv\"\n",
    "data=pd.read_csv(dataSource)"
   ]
  },
  {
   "cell_type": "markdown",
   "metadata": {},
   "source": [
    "### 2. Revisión de la consistencia de la base de datos"
   ]
  },
  {
   "cell_type": "code",
   "execution_count": 206,
   "metadata": {},
   "outputs": [
    {
     "name": "stdout",
     "output_type": "stream",
     "text": [
      "<class 'pandas.core.frame.DataFrame'>\n",
      "RangeIndex: 560 entries, 0 to 559\n",
      "Data columns (total 1 columns):\n",
      " #   Column   Non-Null Count  Dtype \n",
      "---  ------   --------------  ----- \n",
      " 0   Empleos  560 non-null    object\n",
      "dtypes: object(1)\n",
      "memory usage: 4.5+ KB\n"
     ]
    }
   ],
   "source": [
    "data.info()"
   ]
  },
  {
   "cell_type": "code",
   "execution_count": 207,
   "metadata": {},
   "outputs": [],
   "source": [
    "data=data.astype(\"string\")"
   ]
  },
  {
   "cell_type": "markdown",
   "metadata": {},
   "source": [
    "### 3. Normalización a minúsculas"
   ]
  },
  {
   "cell_type": "code",
   "execution_count": 208,
   "metadata": {},
   "outputs": [],
   "source": [
    "data.Empleos=data.Empleos.apply(lambda x: x.lower())"
   ]
  },
  {
   "cell_type": "markdown",
   "metadata": {},
   "source": [
    "### 4. Eliminación de puntuación y caracteres especiales"
   ]
  },
  {
   "cell_type": "code",
   "execution_count": 209,
   "metadata": {},
   "outputs": [],
   "source": [
    "caracteresEspeciales=str.maketrans('áéíóú','aeiou',string.punctuation)\n",
    "data.Empleos = data.Empleos.apply(lambda empleo: empleo.translate(caracteresEspeciales))"
   ]
  },
  {
   "cell_type": "markdown",
   "metadata": {},
   "source": [
    "### 5. Separar por espacios"
   ]
  },
  {
   "cell_type": "code",
   "execution_count": 210,
   "metadata": {},
   "outputs": [],
   "source": [
    "data.Empleos=data.Empleos.apply(str.split)"
   ]
  },
  {
   "cell_type": "markdown",
   "metadata": {},
   "source": [
    "### 6. Eliminación de palabras con poco significado"
   ]
  },
  {
   "cell_type": "code",
   "execution_count": 211,
   "metadata": {},
   "outputs": [],
   "source": [
    "preposiciones = ['a', 'ante', 'bajo', 'cabe', 'con', 'contra', 'de', 'desde', 'en', 'entre', 'hacia', 'hasta', 'para', 'por', 'segun', 'sin', 'so', 'sobre', 'tras', 'durante', 'mediante', 'versus','via']\n",
    "conjunciones = ['y', 'e', 'ni', 'que', 'pero', 'mas', 'aunque', 'sino', 'siquiera', 'o', 'u', 'ora', 'sea', 'bien']\n",
    "otras = ['soy', 'una', 'uno','la', 'el', 'los']\n",
    "palabrasPocoSignificado=preposiciones + conjunciones + otras"
   ]
  },
  {
   "cell_type": "code",
   "execution_count": 212,
   "metadata": {},
   "outputs": [],
   "source": [
    "def Eliminar_Palabras(listaDePalabras, palabrasParaEliminar=palabrasPocoSignificado):\n",
    "    for indice, palabra in enumerate(listaDePalabras):\n",
    "        if palabra in palabrasParaEliminar:\n",
    "            listaDePalabras.pop(indice)\n",
    "\n",
    "data.Empleos.apply(lambda empleos: Eliminar_Palabras(empleos));"
   ]
  },
  {
   "cell_type": "markdown",
   "metadata": {},
   "source": [
    "### 7. Definición de grupos y reclasificación"
   ]
  },
  {
   "cell_type": "code",
   "execution_count": 213,
   "metadata": {},
   "outputs": [],
   "source": [
    "grupos={'empleado': ['empleado','empleada','trabajador','obrero', 'tecnico', 'coordinador', 'operador', 'trabajo','supervisor',\n",
    "                    'servidor', 'ayudante', 'auxiliar', 'mesero', 'promotor', 'despachador', 'demostrador',\n",
    "                    'maniobrista','verificador','encargado','analista','sectretaria', 'montacarguista'\n",
    "                    'instalador','oficina','fabrica','soporte','comisionista','montacarguista','maquilador','conserje',\n",
    "                    'almacenista','telemarketer','telemarketing','callcenter','hoteleria','recepcionista',\n",
    "                    'mantenimiento','intencencia','limpieza','aseo','reclutador','logistica','cuidador','reclutamiento',\n",
    "                    'marketing','hostest','cafeteria','carpinteria','rosticeria','capturista','gasolinera','ajustador',\n",
    "                    'autolavado','servicio','call','center','camarista','monirotista','aplicador','repartidor','paqueteria',\n",
    "                    'cajero','mensajero','agente','checador','aseador','rh','rrhh','coordinacion'],\n",
    "        'vendedor': ['vendedor', 'ventas', 'venta'], \n",
    "        'chofer':['chofer','uber', 'didi', 'taxi', 'taxsista', 'conductor','transportista','transporte','bicitaxi',\n",
    "                 'trailero'],\n",
    "        'salud': ['doctor','medico','enfermera','cirgujano','dentista','odontologo','camillero','radiologo',\n",
    "                  'terapeuta','trasladista','clinico','preventista'],\n",
    "        'comerciante':['comerciante','comercio', 'vendo'],\n",
    "        'hogar':['hogar','ama', 'casa'],\n",
    "        'oficio':['oficio','mecanico','electricista','albañil','vidriero','reposteria','carrocero','electrico', 'carnicero',\n",
    "                 'hojalatero', 'cocinero', 'chef', 'zapatero','panadero','pizzero','estilista','maquillista',\n",
    "                 'albañileria','herreria','tapicero','jardinero','costurero','sastre','construccion','repartidor',\n",
    "                 'taller','pirotecnia','verdulero','estetica','fotografo','fotografia','manualidades','tatuador',\n",
    "                 'reparacion','reparador','pastelero','repostero','afinador','banquetero','soldador','ebanista',\n",
    "                 'entenador','automotriz','taquero'],\n",
    "        'profesionista':['ingeniero', 'abogado','contador', 'licenciado','contabilidad', 'arquitecto', 'veterinario',\n",
    "                        'metrologo','auditor','programador','contratista','mercadologo','profesionisnta','diseñador',\n",
    "                        'diseño'],\n",
    "        'ejecutivo':['ejecutivo','gerente', 'administrador', 'finanzas','jefe','administrativo','administracion'],\n",
    "        'empresario':['empresario','tienda','negocio','locatario','empresa'],\n",
    "        'seguridad':['seguridad', 'guardia', 'policia','custodia','vigilante','velador'],\n",
    "        'jubilado':['jubilado', 'pensionado'],\n",
    "        'independiente':['independiente','freelance','emprendedor'],\n",
    "        'docente':['docente','profesor','maestro', 'instructor'],\n",
    "        'consultor':['consultor', 'asesor'],\n",
    "        'desempleado':['desempleado']\n",
    "       }"
   ]
  },
  {
   "cell_type": "code",
   "execution_count": 214,
   "metadata": {},
   "outputs": [],
   "source": [
    "def Clasificador_Empleo(listaPalabras, diccionarioGrupos=grupos, precision=3):\n",
    "    for palabra in listaPalabras:\n",
    "        for grupo in list(diccionarioGrupos.keys()):\n",
    "            for elemento in diccionarioGrupos[grupo]:\n",
    "                distancia=lev.distance(palabra,elemento)\n",
    "                if distancia < precision:\n",
    "                    return grupo\n",
    "    return 'otro' #str(listaPalabras)"
   ]
  },
  {
   "cell_type": "code",
   "execution_count": 215,
   "metadata": {},
   "outputs": [],
   "source": [
    "data['EmpleoClasificado']=''\n",
    "data.EmpleoClasificado=data.Empleos.apply(lambda empleo: Clasificador_Empleo(empleo))\n",
    "data=data.drop(['Empleos'], axis =1)\n",
    "data.rename(columns={'EmpleoClasificado':'Empleos'})"
   ]
  },
  {
   "cell_type": "markdown",
   "metadata": {},
   "source": [
    "### 8. Guardado de base de datos en un archivo"
   ]
  },
  {
   "cell_type": "code",
   "execution_count": 218,
   "metadata": {},
   "outputs": [],
   "source": [
    "data.to_csv('data/Resultado_Clasificacion_ocupaciones.csv')"
   ]
  },
  {
   "cell_type": "markdown",
   "metadata": {},
   "source": [
    "# Código para ejecución completa del Punto 1"
   ]
  },
  {
   "cell_type": "code",
   "execution_count": 220,
   "metadata": {},
   "outputs": [],
   "source": [
    "import pandas as pd\n",
    "import numpy as np\n",
    "import string\n",
    "import Levenshtein as lev\n",
    "\n",
    "# Funciones\n",
    "\n",
    "def Eliminar_Palabras(listaDePalabras, palabrasParaEliminar=palabrasPocoSignificado):\n",
    "    for indice, palabra in enumerate(listaDePalabras):\n",
    "        if palabra in palabrasParaEliminar:\n",
    "            listaDePalabras.pop(indice)\n",
    "            \n",
    "\n",
    "def Clasificador_Empleo(listaPalabras, diccionarioGrupos=grupos, precision=3):\n",
    "    for palabra in listaPalabras:\n",
    "        for grupo in list(diccionarioGrupos.keys()):\n",
    "            for elemento in diccionarioGrupos[grupo]:\n",
    "                distancia=lev.distance(palabra,elemento)\n",
    "                if distancia < precision:\n",
    "                    return grupo\n",
    "    return 'otro'\n",
    "\n",
    "# Main\n",
    "# 1. Carga de base datos\n",
    "dataSource = \"data/DataAnalyst_YoFio_PT_ocupaciones.csv\"\n",
    "data=pd.read_csv(dataSource)\n",
    "# 2. Revisión de la consistencia de la base de datos\n",
    "data=data.astype(\"string\")\n",
    "# 3. Normalización a minúsculas\n",
    "data.Empleos=data.Empleos.apply(lambda x: x.lower())\n",
    "# 4. Eliminación de puntuación y caracteres especiales\n",
    "caracteresEspeciales=str.maketrans('áéíóú','aeiou',string.punctuation)\n",
    "data.Empleos = data.Empleos.apply(lambda empleo: empleo.translate(caracteresEspeciales))\n",
    "# 5. Separar por espacios\n",
    "data.Empleos=data.Empleos.apply(str.split)\n",
    "# 6. Eliminación de palabras con poco significado\n",
    "preposiciones = ['a', 'ante', 'bajo', 'cabe', 'con', 'contra', 'de', 'desde', 'en', 'entre', 'hacia', 'hasta', 'para', 'por', 'segun', 'sin', 'so', 'sobre', 'tras', 'durante', 'mediante', 'versus','via']\n",
    "conjunciones = ['y', 'e', 'ni', 'que', 'pero', 'mas', 'aunque', 'sino', 'siquiera', 'o', 'u', 'ora', 'sea', 'bien']\n",
    "otras = ['soy', 'una', 'uno','la', 'el', 'los']\n",
    "palabrasPocoSignificado=preposiciones + conjunciones + otras\n",
    "data.Empleos.apply(lambda empleos: Eliminar_Palabras(empleos));\n",
    "# 7. Definición de grupos y reclasificación\n",
    "grupos={'empleado': ['empleado','empleada','trabajador','obrero', 'tecnico', 'coordinador', 'operador', 'trabajo','supervisor',\n",
    "                    'servidor', 'ayudante', 'auxiliar', 'mesero', 'promotor', 'despachador', 'demostrador',\n",
    "                    'maniobrista','verificador','encargado','analista','sectretaria', 'montacarguista'\n",
    "                    'instalador','oficina','fabrica','soporte','comisionista','montacarguista','maquilador','conserje',\n",
    "                    'almacenista','telemarketer','telemarketing','callcenter','hoteleria','recepcionista',\n",
    "                    'mantenimiento','intencencia','limpieza','aseo','reclutador','logistica','cuidador','reclutamiento',\n",
    "                    'marketing','hostest','cafeteria','carpinteria','rosticeria','capturista','gasolinera','ajustador',\n",
    "                    'autolavado','servicio','call','center','camarista','monirotista','aplicador','repartidor','paqueteria',\n",
    "                    'cajero','mensajero','agente','checador','aseador','rh','rrhh','coordinacion'],\n",
    "        'vendedor': ['vendedor', 'ventas', 'venta'], \n",
    "        'chofer':['chofer','uber', 'didi', 'taxi', 'taxsista', 'conductor','transportista','transporte','bicitaxi',\n",
    "                 'trailero'],\n",
    "        'salud': ['doctor','medico','enfermera','cirgujano','dentista','odontologo','camillero','radiologo',\n",
    "                  'terapeuta','trasladista','clinico','preventista'],\n",
    "        'comerciante':['comerciante','comercio', 'vendo'],\n",
    "        'hogar':['hogar','ama', 'casa'],\n",
    "        'oficio':['oficio','mecanico','electricista','albañil','vidriero','reposteria','carrocero','electrico', 'carnicero',\n",
    "                 'hojalatero', 'cocinero', 'chef', 'zapatero','panadero','pizzero','estilista','maquillista',\n",
    "                 'albañileria','herreria','tapicero','jardinero','costurero','sastre','construccion','repartidor',\n",
    "                 'taller','pirotecnia','verdulero','estetica','fotografo','fotografia','manualidades','tatuador',\n",
    "                 'reparacion','reparador','pastelero','repostero','afinador','banquetero','soldador','ebanista',\n",
    "                 'entenador','automotriz','taquero'],\n",
    "        'profesionista':['ingeniero', 'abogado','contador', 'licenciado','contabilidad', 'arquitecto', 'veterinario',\n",
    "                        'metrologo','auditor','programador','contratista','mercadologo','profesionisnta','diseñador',\n",
    "                        'diseño'],\n",
    "        'ejecutivo':['ejecutivo','gerente', 'administrador', 'finanzas','jefe','administrativo','administracion'],\n",
    "        'empresario':['empresario','tienda','negocio','locatario','empresa'],\n",
    "        'seguridad':['seguridad', 'guardia', 'policia','custodia','vigilante','velador'],\n",
    "        'jubilado':['jubilado', 'pensionado'],\n",
    "        'independiente':['independiente','freelance','emprendedor'],\n",
    "        'docente':['docente','profesor','maestro', 'instructor'],\n",
    "        'consultor':['consultor', 'asesor'],\n",
    "        'desempleado':['desempleado']\n",
    "       }\n",
    "data['EmpleoClasificado']=''\n",
    "data.EmpleoClasificado=data.Empleos.apply(lambda empleo: Clasificador_Empleo(empleo))\n",
    "data=data.drop(['Empleos'], axis =1)\n",
    "data.rename(columns={'EmpleoClasificado':'Empleos'})\n",
    "# 8. Guardado de base de datos en un archivo\n",
    "data.to_csv('data/Resultado_Clasificacion_ocupaciones.csv')"
   ]
  },
  {
   "cell_type": "markdown",
   "metadata": {},
   "source": [
    "\n",
    "# Punto 3. Métricas a partir de los datos"
   ]
  },
  {
   "cell_type": "markdown",
   "metadata": {},
   "source": [
    "### 1. Carga de base datos"
   ]
  },
  {
   "cell_type": "code",
   "execution_count": 611,
   "metadata": {},
   "outputs": [],
   "source": [
    "totalProcesos=4\n",
    "dataProcesos=[]\n",
    "for numeroProceso in range(totalProcesos):\n",
    "    dataProcesos.append(pd.read_csv(\"data/proceso\"+ str(numeroProceso + 1) +\".csv\"))"
   ]
  },
  {
   "cell_type": "markdown",
   "metadata": {},
   "source": [
    "### 2. Limpieza y Transformación"
   ]
  },
  {
   "cell_type": "code",
   "execution_count": 612,
   "metadata": {},
   "outputs": [],
   "source": [
    "#Limpieza de datos nulos en campo address\n",
    "dataProcesos[1].address=dataProcesos[1].address.apply(lambda x:'' if type(x)!=str else x)\n",
    "\n",
    "#Validación Datos completos\n",
    "#Registros con campos completos\n",
    "listaRegistrosCompletos=list(dataProcesos[1][dataProcesos[1].address != ''].user_id)\n",
    "#Validacion compra mayor a 40 pesos\n",
    "#Registros con compraS iniciales mayores a 40 pesos\n",
    "listaRegistrosMas40=list(dataProcesos[2][dataProcesos[2].tx1_amount>40].user_id)\n",
    "#Combinacion de Validaciones\n",
    "listaUsuariosValidos=[] #Contiene todos los user_id validos segun las restricciones dadas\n",
    "for i in listaRegistrosCompletos:\n",
    "    if i in listaRegistrosMas40:\n",
    "        listaUsuariosValidos.append(i)\n",
    "        \n",
    "#Transformacion de srt a timestamp en las fechas de registro y eliminacion de la hora\n",
    "from datetime import datetime\n",
    "from datetime import timedelta\n",
    "\n",
    "dataProcesos[0].registration_date=dataProcesos[0].registration_date.apply(lambda x:\n",
    "                                  datetime.strptime(x, '%Y-%m-%d %H:%M:%S').date())\n",
    "\n",
    "#Definicion del intervalo de tiempo\n",
    "fechaInicial=dataProcesos[0].registration_date.min()\n",
    "fechaFinal=dataProcesos[0].registration_date.max()\n",
    "diasTotales=(fechaFinal-fechaInicial).days"
   ]
  },
  {
   "cell_type": "markdown",
   "metadata": {},
   "source": [
    "### 3. Cálculo del First Payment Default Rate por dia"
   ]
  },
  {
   "cell_type": "code",
   "execution_count": 613,
   "metadata": {},
   "outputs": [],
   "source": [
    "firstPaymentDefaultRate=[]\n",
    "for i in range(diasTotales+1):\n",
    "    #Generacion de listas de usuarios registrados en cada dia\n",
    "    listaUsuariosHoy=list(dataProcesos[0][dataProcesos[0].registration_date == fechaInicial+timedelta(days=i)].user_id)\n",
    "    listaUsuariosHoy=list(set(listaUsuariosHoy)) #Eliminacion de duplicados en caso de haberlos\n",
    "    totalCuentas=len(listaUsuariosHoy)\n",
    "    nCuentasImpago=0\n",
    "    \n",
    "    for j in range(len(listaUsuariosHoy)):\n",
    "        #Extraccion de valores de procesos 3 y 4 de los usuarios validados\n",
    "        try:\n",
    "            tx1_amount=float(dataProcesos[2][dataProcesos[2].user_id==listaUsuariosHoy[j]].tx1_amount)\n",
    "        except:\n",
    "            tx1_amount= 0.00\n",
    "            \n",
    "        try:\n",
    "            tx2_amount=float(dataProcesos[2][dataProcesos[2].user_id==listaUsuariosHoy[j]].tx2_amount)\n",
    "        except:\n",
    "            tx2_amount= 0.00\n",
    "            \n",
    "        \n",
    "        payment_amount=0.00\n",
    "        numeroPagos=len(dataProcesos[3][dataProcesos[3].user_id==listaUsuariosHoy[j]].payment_amount)\n",
    "        for nP in range(numeroPagos):\n",
    "            payment_amount=payment_amount+float(dataProcesos[3][dataProcesos[3].user_id==listaUsuariosHoy[j]].payment_amount.iloc[nP])\n",
    "\n",
    "        if tx1_amount-payment_amount>0:\n",
    "            nCuentasImpago=+1\n",
    "    \n",
    "    firstPaymentDefaultRate.append([fechaInicial+timedelta(days=i),totalCuentas,nCuentasImpago,(nCuentasImpago/totalCuentas)*100])\n",
    "        "
   ]
  },
  {
   "cell_type": "code",
   "execution_count": 614,
   "metadata": {},
   "outputs": [],
   "source": [
    "dffPDR=pd.DataFrame(firstPaymentDefaultRate)\n",
    "dffPDR.rename(columns={0:'Fecha',1:'Total_de_cuentas',2:'Cuentas_en_impago',3:'Porcentaje_cuentas_en_impago'}, inplace=True)"
   ]
  },
  {
   "cell_type": "code",
   "execution_count": 617,
   "metadata": {},
   "outputs": [
    {
     "data": {
      "text/html": [
       "<div>\n",
       "<style scoped>\n",
       "    .dataframe tbody tr th:only-of-type {\n",
       "        vertical-align: middle;\n",
       "    }\n",
       "\n",
       "    .dataframe tbody tr th {\n",
       "        vertical-align: top;\n",
       "    }\n",
       "\n",
       "    .dataframe thead th {\n",
       "        text-align: right;\n",
       "    }\n",
       "</style>\n",
       "<table border=\"1\" class=\"dataframe\">\n",
       "  <thead>\n",
       "    <tr style=\"text-align: right;\">\n",
       "      <th></th>\n",
       "      <th>Fecha</th>\n",
       "      <th>Total_de_cuentas</th>\n",
       "      <th>Cuentas_en_impago</th>\n",
       "      <th>Porcentaje_cuentas_en_impago</th>\n",
       "    </tr>\n",
       "  </thead>\n",
       "  <tbody>\n",
       "    <tr>\n",
       "      <th>0</th>\n",
       "      <td>2020-07-07</td>\n",
       "      <td>6</td>\n",
       "      <td>1</td>\n",
       "      <td>16.666667</td>\n",
       "    </tr>\n",
       "    <tr>\n",
       "      <th>1</th>\n",
       "      <td>2020-07-08</td>\n",
       "      <td>12</td>\n",
       "      <td>1</td>\n",
       "      <td>8.333333</td>\n",
       "    </tr>\n",
       "    <tr>\n",
       "      <th>2</th>\n",
       "      <td>2020-07-09</td>\n",
       "      <td>13</td>\n",
       "      <td>1</td>\n",
       "      <td>7.692308</td>\n",
       "    </tr>\n",
       "    <tr>\n",
       "      <th>3</th>\n",
       "      <td>2020-07-10</td>\n",
       "      <td>11</td>\n",
       "      <td>1</td>\n",
       "      <td>9.090909</td>\n",
       "    </tr>\n",
       "    <tr>\n",
       "      <th>4</th>\n",
       "      <td>2020-07-11</td>\n",
       "      <td>5</td>\n",
       "      <td>1</td>\n",
       "      <td>20.000000</td>\n",
       "    </tr>\n",
       "    <tr>\n",
       "      <th>...</th>\n",
       "      <td>...</td>\n",
       "      <td>...</td>\n",
       "      <td>...</td>\n",
       "      <td>...</td>\n",
       "    </tr>\n",
       "    <tr>\n",
       "      <th>80</th>\n",
       "      <td>2020-09-25</td>\n",
       "      <td>13</td>\n",
       "      <td>1</td>\n",
       "      <td>7.692308</td>\n",
       "    </tr>\n",
       "    <tr>\n",
       "      <th>81</th>\n",
       "      <td>2020-09-26</td>\n",
       "      <td>11</td>\n",
       "      <td>1</td>\n",
       "      <td>9.090909</td>\n",
       "    </tr>\n",
       "    <tr>\n",
       "      <th>82</th>\n",
       "      <td>2020-09-27</td>\n",
       "      <td>9</td>\n",
       "      <td>1</td>\n",
       "      <td>11.111111</td>\n",
       "    </tr>\n",
       "    <tr>\n",
       "      <th>83</th>\n",
       "      <td>2020-09-28</td>\n",
       "      <td>4</td>\n",
       "      <td>1</td>\n",
       "      <td>25.000000</td>\n",
       "    </tr>\n",
       "    <tr>\n",
       "      <th>84</th>\n",
       "      <td>2020-09-29</td>\n",
       "      <td>9</td>\n",
       "      <td>1</td>\n",
       "      <td>11.111111</td>\n",
       "    </tr>\n",
       "  </tbody>\n",
       "</table>\n",
       "<p>85 rows × 4 columns</p>\n",
       "</div>"
      ],
      "text/plain": [
       "         Fecha  Total_de_cuentas  Cuentas_en_impago  \\\n",
       "0   2020-07-07                 6                  1   \n",
       "1   2020-07-08                12                  1   \n",
       "2   2020-07-09                13                  1   \n",
       "3   2020-07-10                11                  1   \n",
       "4   2020-07-11                 5                  1   \n",
       "..         ...               ...                ...   \n",
       "80  2020-09-25                13                  1   \n",
       "81  2020-09-26                11                  1   \n",
       "82  2020-09-27                 9                  1   \n",
       "83  2020-09-28                 4                  1   \n",
       "84  2020-09-29                 9                  1   \n",
       "\n",
       "    Porcentaje_cuentas_en_impago  \n",
       "0                      16.666667  \n",
       "1                       8.333333  \n",
       "2                       7.692308  \n",
       "3                       9.090909  \n",
       "4                      20.000000  \n",
       "..                           ...  \n",
       "80                      7.692308  \n",
       "81                      9.090909  \n",
       "82                     11.111111  \n",
       "83                     25.000000  \n",
       "84                     11.111111  \n",
       "\n",
       "[85 rows x 4 columns]"
      ]
     },
     "execution_count": 617,
     "metadata": {},
     "output_type": "execute_result"
    }
   ],
   "source": [
    "dffPDR"
   ]
  },
  {
   "cell_type": "code",
   "execution_count": null,
   "metadata": {},
   "outputs": [],
   "source": []
  }
 ],
 "metadata": {
  "kernelspec": {
   "display_name": "Python 3",
   "language": "python",
   "name": "python3"
  },
  "language_info": {
   "codemirror_mode": {
    "name": "ipython",
    "version": 3
   },
   "file_extension": ".py",
   "mimetype": "text/x-python",
   "name": "python",
   "nbconvert_exporter": "python",
   "pygments_lexer": "ipython3",
   "version": "3.8.5"
  }
 },
 "nbformat": 4,
 "nbformat_minor": 4
}
