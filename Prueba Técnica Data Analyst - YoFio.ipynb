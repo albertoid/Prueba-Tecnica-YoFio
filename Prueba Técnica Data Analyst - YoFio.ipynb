{
 "cells": [
  {
   "cell_type": "code",
   "execution_count": 5,
   "metadata": {},
   "outputs": [],
   "source": [
    "import pandas as pd\n",
    "import numpy as np\n",
    "import string\n",
    "import Levenshtein as lev"
   ]
  },
  {
   "cell_type": "markdown",
   "metadata": {},
   "source": [
    "# Punto 1. Limpieza y transformación de los datos"
   ]
  },
  {
   "cell_type": "markdown",
   "metadata": {},
   "source": [
    "Utilizaré la técnica de tokenización manual como primer proceso de limpieza consistente en 6 pasos:\n",
    "\n",
    "1. Carga de datos \n",
    "2. Revisión de la consistencia de los datos y transformación a string\n",
    "3. Normalización de mayúsculas y minúsculas\n",
    "4. Eliminación de puntuación y caracteres especiales\n",
    "5. Separar por espacios\n",
    "6. Eliminación de palabras con poco significado.\n",
    "7. Definición de grupos y reclasificación\n",
    "8. Guardado de base de datos en un archivo"
   ]
  },
  {
   "cell_type": "markdown",
   "metadata": {},
   "source": [
    "### 1. Carga de base datos"
   ]
  },
  {
   "cell_type": "code",
   "execution_count": 205,
   "metadata": {},
   "outputs": [],
   "source": [
    "dataSource = \"data/DataAnalyst_YoFio_PT_ocupaciones.csv\"\n",
    "data=pd.read_csv(dataSource)"
   ]
  },
  {
   "cell_type": "markdown",
   "metadata": {},
   "source": [
    "### 2. Revisión de la consistencia de la base de datos"
   ]
  },
  {
   "cell_type": "code",
   "execution_count": 206,
   "metadata": {},
   "outputs": [
    {
     "name": "stdout",
     "output_type": "stream",
     "text": [
      "<class 'pandas.core.frame.DataFrame'>\n",
      "RangeIndex: 560 entries, 0 to 559\n",
      "Data columns (total 1 columns):\n",
      " #   Column   Non-Null Count  Dtype \n",
      "---  ------   --------------  ----- \n",
      " 0   Empleos  560 non-null    object\n",
      "dtypes: object(1)\n",
      "memory usage: 4.5+ KB\n"
     ]
    }
   ],
   "source": [
    "data.info()"
   ]
  },
  {
   "cell_type": "code",
   "execution_count": 207,
   "metadata": {},
   "outputs": [],
   "source": [
    "data=data.astype(\"string\")"
   ]
  },
  {
   "cell_type": "markdown",
   "metadata": {},
   "source": [
    "### 3. Normalización a minúsculas"
   ]
  },
  {
   "cell_type": "code",
   "execution_count": 208,
   "metadata": {},
   "outputs": [],
   "source": [
    "data.Empleos=data.Empleos.apply(lambda x: x.lower())"
   ]
  },
  {
   "cell_type": "markdown",
   "metadata": {},
   "source": [
    "### 4. Eliminación de puntuación y caracteres especiales"
   ]
  },
  {
   "cell_type": "code",
   "execution_count": 209,
   "metadata": {},
   "outputs": [],
   "source": [
    "caracteresEspeciales=str.maketrans('áéíóú','aeiou',string.punctuation)\n",
    "data.Empleos = data.Empleos.apply(lambda empleo: empleo.translate(caracteresEspeciales))"
   ]
  },
  {
   "cell_type": "markdown",
   "metadata": {},
   "source": [
    "### 5. Separar por espacios"
   ]
  },
  {
   "cell_type": "code",
   "execution_count": 210,
   "metadata": {},
   "outputs": [],
   "source": [
    "data.Empleos=data.Empleos.apply(str.split)"
   ]
  },
  {
   "cell_type": "markdown",
   "metadata": {},
   "source": [
    "### 6. Eliminación de palabras con poco significado"
   ]
  },
  {
   "cell_type": "code",
   "execution_count": 211,
   "metadata": {},
   "outputs": [],
   "source": [
    "preposiciones = ['a', 'ante', 'bajo', 'cabe', 'con', 'contra', 'de', 'desde', 'en', 'entre', 'hacia', 'hasta', 'para', 'por', 'segun', 'sin', 'so', 'sobre', 'tras', 'durante', 'mediante', 'versus','via']\n",
    "conjunciones = ['y', 'e', 'ni', 'que', 'pero', 'mas', 'aunque', 'sino', 'siquiera', 'o', 'u', 'ora', 'sea', 'bien']\n",
    "otras = ['soy', 'una', 'uno','la', 'el', 'los']\n",
    "palabrasPocoSignificado=preposiciones + conjunciones + otras"
   ]
  },
  {
   "cell_type": "code",
   "execution_count": 212,
   "metadata": {},
   "outputs": [],
   "source": [
    "def Eliminar_Palabras(listaDePalabras, palabrasParaEliminar=palabrasPocoSignificado):\n",
    "    for indice, palabra in enumerate(listaDePalabras):\n",
    "        if palabra in palabrasParaEliminar:\n",
    "            listaDePalabras.pop(indice)\n",
    "\n",
    "data.Empleos.apply(lambda empleos: Eliminar_Palabras(empleos));"
   ]
  },
  {
   "cell_type": "markdown",
   "metadata": {},
   "source": [
    "### 7. Definición de grupos y reclasificación"
   ]
  },
  {
   "cell_type": "code",
   "execution_count": 213,
   "metadata": {},
   "outputs": [],
   "source": [
    "grupos={'empleado': ['empleado','empleada','trabajador','obrero', 'tecnico', 'coordinador', 'operador', 'trabajo','supervisor',\n",
    "                    'servidor', 'ayudante', 'auxiliar', 'mesero', 'promotor', 'despachador', 'demostrador',\n",
    "                    'maniobrista','verificador','encargado','analista','sectretaria', 'montacarguista'\n",
    "                    'instalador','oficina','fabrica','soporte','comisionista','montacarguista','maquilador','conserje',\n",
    "                    'almacenista','telemarketer','telemarketing','callcenter','hoteleria','recepcionista',\n",
    "                    'mantenimiento','intencencia','limpieza','aseo','reclutador','logistica','cuidador','reclutamiento',\n",
    "                    'marketing','hostest','cafeteria','carpinteria','rosticeria','capturista','gasolinera','ajustador',\n",
    "                    'autolavado','servicio','call','center','camarista','monirotista','aplicador','repartidor','paqueteria',\n",
    "                    'cajero','mensajero','agente','checador','aseador','rh','rrhh','coordinacion'],\n",
    "        'vendedor': ['vendedor', 'ventas', 'venta'], \n",
    "        'chofer':['chofer','uber', 'didi', 'taxi', 'taxsista', 'conductor','transportista','transporte','bicitaxi',\n",
    "                 'trailero'],\n",
    "        'salud': ['doctor','medico','enfermera','cirgujano','dentista','odontologo','camillero','radiologo',\n",
    "                  'terapeuta','trasladista','clinico','preventista'],\n",
    "        'comerciante':['comerciante','comercio', 'vendo'],\n",
    "        'hogar':['hogar','ama', 'casa'],\n",
    "        'oficio':['oficio','mecanico','electricista','albañil','vidriero','reposteria','carrocero','electrico', 'carnicero',\n",
    "                 'hojalatero', 'cocinero', 'chef', 'zapatero','panadero','pizzero','estilista','maquillista',\n",
    "                 'albañileria','herreria','tapicero','jardinero','costurero','sastre','construccion','repartidor',\n",
    "                 'taller','pirotecnia','verdulero','estetica','fotografo','fotografia','manualidades','tatuador',\n",
    "                 'reparacion','reparador','pastelero','repostero','afinador','banquetero','soldador','ebanista',\n",
    "                 'entenador','automotriz','taquero'],\n",
    "        'profesionista':['ingeniero', 'abogado','contador', 'licenciado','contabilidad', 'arquitecto', 'veterinario',\n",
    "                        'metrologo','auditor','programador','contratista','mercadologo','profesionisnta','diseñador',\n",
    "                        'diseño'],\n",
    "        'ejecutivo':['ejecutivo','gerente', 'administrador', 'finanzas','jefe','administrativo','administracion'],\n",
    "        'empresario':['empresario','tienda','negocio','locatario','empresa'],\n",
    "        'seguridad':['seguridad', 'guardia', 'policia','custodia','vigilante','velador'],\n",
    "        'jubilado':['jubilado', 'pensionado'],\n",
    "        'independiente':['independiente','freelance','emprendedor'],\n",
    "        'docente':['docente','profesor','maestro', 'instructor'],\n",
    "        'consultor':['consultor', 'asesor'],\n",
    "        'desempleado':['desempleado']\n",
    "       }"
   ]
  },
  {
   "cell_type": "code",
   "execution_count": 214,
   "metadata": {},
   "outputs": [],
   "source": [
    "def Clasificador_Empleo(listaPalabras, diccionarioGrupos=grupos, precision=3):\n",
    "    for palabra in listaPalabras:\n",
    "        for grupo in list(diccionarioGrupos.keys()):\n",
    "            for elemento in diccionarioGrupos[grupo]:\n",
    "                distancia=lev.distance(palabra,elemento)\n",
    "                if distancia < precision:\n",
    "                    return grupo\n",
    "    return 'otro' #str(listaPalabras)"
   ]
  },
  {
   "cell_type": "code",
   "execution_count": 215,
   "metadata": {},
   "outputs": [],
   "source": [
    "data['EmpleoClasificado']=''\n",
    "data.EmpleoClasificado=data.Empleos.apply(lambda empleo: Clasificador_Empleo(empleo))\n",
    "data=data.drop(['Empleos'], axis =1)\n",
    "data.rename(columns={'EmpleoClasificado':'Empleos'})"
   ]
  },
  {
   "cell_type": "markdown",
   "metadata": {},
   "source": [
    "### 8. Guardado de base de datos en un archivo"
   ]
  },
  {
   "cell_type": "code",
   "execution_count": 218,
   "metadata": {},
   "outputs": [],
   "source": [
    "data.to_csv('data/Resultado_Clasificacion_ocupaciones.csv')"
   ]
  },
  {
   "cell_type": "code",
   "execution_count": null,
   "metadata": {},
   "outputs": [],
   "source": []
  }
 ],
 "metadata": {
  "kernelspec": {
   "display_name": "Python 3",
   "language": "python",
   "name": "python3"
  },
  "language_info": {
   "codemirror_mode": {
    "name": "ipython",
    "version": 3
   },
   "file_extension": ".py",
   "mimetype": "text/x-python",
   "name": "python",
   "nbconvert_exporter": "python",
   "pygments_lexer": "ipython3",
   "version": "3.8.5"
  }
 },
 "nbformat": 4,
 "nbformat_minor": 4
}
